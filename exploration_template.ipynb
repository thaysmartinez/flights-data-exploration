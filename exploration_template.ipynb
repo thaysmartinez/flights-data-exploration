{
 "cells": [
  {
   "cell_type": "markdown",
   "metadata": {},
   "source": [
    "# Flights Data Exploration\n",
    "## by Thays Martinez\n",
    "\n",
    "## Preliminary Wrangling\n",
    "\n",
    "This document explores approximately 5.3 million cancelled and delayed flights within United States and Canada which were registered between 1st of January 2018 and 31st of December 2019."
   ]
  },
  {
   "cell_type": "code",
   "execution_count": 1,
   "metadata": {},
   "outputs": [],
   "source": [
    "# import all packages and set plots to be embedded inline\n",
    "import numpy as np\n",
    "import pandas as pd\n",
    "import matplotlib.pyplot as plt\n",
    "import seaborn as sb\n",
    "from datetime import datetime\n",
    "\n",
    "%matplotlib inline"
   ]
  },
  {
   "cell_type": "code",
   "execution_count": 81,
   "metadata": {
    "scrolled": false
   },
   "outputs": [],
   "source": [
    "# Load dataset into a pandas DataFrame\n",
    "df_flights = pd.read_csv('flights.csv', low_memory=False)"
   ]
  },
  {
   "cell_type": "code",
   "execution_count": 82,
   "metadata": {},
   "outputs": [],
   "source": [
    "# Convert to category\n",
    "df_flights['cancellation_desc'] = df_flights['cancellation_desc'].astype('category')"
   ]
  },
  {
   "cell_type": "code",
   "execution_count": 83,
   "metadata": {},
   "outputs": [],
   "source": [
    "df_flights['cancelled'] = df_flights.cancelled.astype('str')\n",
    "df_flights['crs_dep_hour'] = df_flights.crs_dep_hour.astype('str').str.zfill(2)"
   ]
  },
  {
   "cell_type": "code",
   "execution_count": 84,
   "metadata": {},
   "outputs": [
    {
     "data": {
      "text/html": [
       "<div>\n",
       "<style scoped>\n",
       "    .dataframe tbody tr th:only-of-type {\n",
       "        vertical-align: middle;\n",
       "    }\n",
       "\n",
       "    .dataframe tbody tr th {\n",
       "        vertical-align: top;\n",
       "    }\n",
       "\n",
       "    .dataframe thead th {\n",
       "        text-align: right;\n",
       "    }\n",
       "</style>\n",
       "<table border=\"1\" class=\"dataframe\">\n",
       "  <thead>\n",
       "    <tr style=\"text-align: right;\">\n",
       "      <th></th>\n",
       "      <th>fl_date</th>\n",
       "      <th>year</th>\n",
       "      <th>month</th>\n",
       "      <th>weekday</th>\n",
       "      <th>origin_airport</th>\n",
       "      <th>origin_city</th>\n",
       "      <th>origin_state</th>\n",
       "      <th>dest_airport</th>\n",
       "      <th>dest_city</th>\n",
       "      <th>dest_state</th>\n",
       "      <th>crs_dep_time</th>\n",
       "      <th>crs_dep_hour</th>\n",
       "      <th>actual_dep_time</th>\n",
       "      <th>dep_delay</th>\n",
       "      <th>taxi_out</th>\n",
       "      <th>...</th>\n",
       "      <th>crs_arr_time</th>\n",
       "      <th>actual_arr_time</th>\n",
       "      <th>arr_delay</th>\n",
       "      <th>cancelled</th>\n",
       "      <th>cancellation_desc</th>\n",
       "      <th>diverted</th>\n",
       "      <th>crs_elapsed_time</th>\n",
       "      <th>actual_elapsed_time</th>\n",
       "      <th>air_time</th>\n",
       "      <th>distance</th>\n",
       "      <th>carrier_delay</th>\n",
       "      <th>weather_delay</th>\n",
       "      <th>nas_delay</th>\n",
       "      <th>security_delay</th>\n",
       "      <th>late_aircraft_delay</th>\n",
       "    </tr>\n",
       "  </thead>\n",
       "  <tbody>\n",
       "    <tr>\n",
       "      <th>0</th>\n",
       "      <td>2019-03-01</td>\n",
       "      <td>2019</td>\n",
       "      <td>Mar</td>\n",
       "      <td>Friday</td>\n",
       "      <td>CVG</td>\n",
       "      <td>Cincinnati</td>\n",
       "      <td>OH</td>\n",
       "      <td>MSP</td>\n",
       "      <td>Minneapolis</td>\n",
       "      <td>OH</td>\n",
       "      <td>15:34:00</td>\n",
       "      <td>15</td>\n",
       "      <td>16:17:00</td>\n",
       "      <td>43.0</td>\n",
       "      <td>28.0</td>\n",
       "      <td>...</td>\n",
       "      <td>16:48:00</td>\n",
       "      <td>17:47:00</td>\n",
       "      <td>59.0</td>\n",
       "      <td>False</td>\n",
       "      <td>NaN</td>\n",
       "      <td>False</td>\n",
       "      <td>134</td>\n",
       "      <td>90.0</td>\n",
       "      <td>74.0</td>\n",
       "      <td>596</td>\n",
       "      <td>0.0</td>\n",
       "      <td>0.0</td>\n",
       "      <td>59.0</td>\n",
       "      <td>0.0</td>\n",
       "      <td>0.0</td>\n",
       "    </tr>\n",
       "    <tr>\n",
       "      <th>1</th>\n",
       "      <td>2019-03-01</td>\n",
       "      <td>2019</td>\n",
       "      <td>Mar</td>\n",
       "      <td>Friday</td>\n",
       "      <td>JFK</td>\n",
       "      <td>New York</td>\n",
       "      <td>NY</td>\n",
       "      <td>BUF</td>\n",
       "      <td>Buffalo</td>\n",
       "      <td>NY</td>\n",
       "      <td>09:40:00</td>\n",
       "      <td>09</td>\n",
       "      <td>10:35:00</td>\n",
       "      <td>55.0</td>\n",
       "      <td>56.0</td>\n",
       "      <td>...</td>\n",
       "      <td>11:14:00</td>\n",
       "      <td>12:36:00</td>\n",
       "      <td>82.0</td>\n",
       "      <td>False</td>\n",
       "      <td>NaN</td>\n",
       "      <td>False</td>\n",
       "      <td>94</td>\n",
       "      <td>121.0</td>\n",
       "      <td>94.0</td>\n",
       "      <td>301</td>\n",
       "      <td>0.0</td>\n",
       "      <td>55.0</td>\n",
       "      <td>27.0</td>\n",
       "      <td>0.0</td>\n",
       "      <td>0.0</td>\n",
       "    </tr>\n",
       "    <tr>\n",
       "      <th>2</th>\n",
       "      <td>2019-03-01</td>\n",
       "      <td>2019</td>\n",
       "      <td>Mar</td>\n",
       "      <td>Friday</td>\n",
       "      <td>MSN</td>\n",
       "      <td>Madison</td>\n",
       "      <td>WI</td>\n",
       "      <td>LGA</td>\n",
       "      <td>New York</td>\n",
       "      <td>WI</td>\n",
       "      <td>18:45:00</td>\n",
       "      <td>18</td>\n",
       "      <td>19:54:00</td>\n",
       "      <td>69.0</td>\n",
       "      <td>14.0</td>\n",
       "      <td>...</td>\n",
       "      <td>21:58:00</td>\n",
       "      <td>23:12:00</td>\n",
       "      <td>74.0</td>\n",
       "      <td>False</td>\n",
       "      <td>NaN</td>\n",
       "      <td>False</td>\n",
       "      <td>133</td>\n",
       "      <td>198.0</td>\n",
       "      <td>193.0</td>\n",
       "      <td>812</td>\n",
       "      <td>0.0</td>\n",
       "      <td>0.0</td>\n",
       "      <td>6.0</td>\n",
       "      <td>0.0</td>\n",
       "      <td>68.0</td>\n",
       "    </tr>\n",
       "    <tr>\n",
       "      <th>3</th>\n",
       "      <td>2019-03-01</td>\n",
       "      <td>2019</td>\n",
       "      <td>Mar</td>\n",
       "      <td>Friday</td>\n",
       "      <td>JFK</td>\n",
       "      <td>New York</td>\n",
       "      <td>NY</td>\n",
       "      <td>BUF</td>\n",
       "      <td>Buffalo</td>\n",
       "      <td>NY</td>\n",
       "      <td>13:36:00</td>\n",
       "      <td>13</td>\n",
       "      <td>15:30:00</td>\n",
       "      <td>114.0</td>\n",
       "      <td>30.0</td>\n",
       "      <td>...</td>\n",
       "      <td>15:13:00</td>\n",
       "      <td>16:58:00</td>\n",
       "      <td>105.0</td>\n",
       "      <td>False</td>\n",
       "      <td>NaN</td>\n",
       "      <td>False</td>\n",
       "      <td>97</td>\n",
       "      <td>88.0</td>\n",
       "      <td>97.0</td>\n",
       "      <td>301</td>\n",
       "      <td>35.0</td>\n",
       "      <td>0.0</td>\n",
       "      <td>0.0</td>\n",
       "      <td>0.0</td>\n",
       "      <td>70.0</td>\n",
       "    </tr>\n",
       "    <tr>\n",
       "      <th>4</th>\n",
       "      <td>2019-03-01</td>\n",
       "      <td>2019</td>\n",
       "      <td>Mar</td>\n",
       "      <td>Friday</td>\n",
       "      <td>ATL</td>\n",
       "      <td>Atlanta</td>\n",
       "      <td>GA</td>\n",
       "      <td>TYS</td>\n",
       "      <td>Knoxville</td>\n",
       "      <td>GA</td>\n",
       "      <td>13:40:00</td>\n",
       "      <td>13</td>\n",
       "      <td>14:25:00</td>\n",
       "      <td>45.0</td>\n",
       "      <td>18.0</td>\n",
       "      <td>...</td>\n",
       "      <td>14:38:00</td>\n",
       "      <td>15:20:00</td>\n",
       "      <td>42.0</td>\n",
       "      <td>False</td>\n",
       "      <td>NaN</td>\n",
       "      <td>False</td>\n",
       "      <td>58</td>\n",
       "      <td>55.0</td>\n",
       "      <td>58.0</td>\n",
       "      <td>152</td>\n",
       "      <td>42.0</td>\n",
       "      <td>0.0</td>\n",
       "      <td>0.0</td>\n",
       "      <td>0.0</td>\n",
       "      <td>0.0</td>\n",
       "    </tr>\n",
       "  </tbody>\n",
       "</table>\n",
       "<p>5 rows × 33 columns</p>\n",
       "</div>"
      ],
      "text/plain": [
       "      fl_date  year month weekday origin_airport origin_city origin_state  \\\n",
       "0  2019-03-01  2019   Mar  Friday            CVG  Cincinnati           OH   \n",
       "1  2019-03-01  2019   Mar  Friday            JFK    New York           NY   \n",
       "2  2019-03-01  2019   Mar  Friday            MSN     Madison           WI   \n",
       "3  2019-03-01  2019   Mar  Friday            JFK    New York           NY   \n",
       "4  2019-03-01  2019   Mar  Friday            ATL     Atlanta           GA   \n",
       "\n",
       "  dest_airport    dest_city dest_state crs_dep_time crs_dep_hour  \\\n",
       "0          MSP  Minneapolis         OH     15:34:00           15   \n",
       "1          BUF      Buffalo         NY     09:40:00           09   \n",
       "2          LGA     New York         WI     18:45:00           18   \n",
       "3          BUF      Buffalo         NY     13:36:00           13   \n",
       "4          TYS    Knoxville         GA     13:40:00           13   \n",
       "\n",
       "  actual_dep_time  dep_delay  taxi_out  ... crs_arr_time actual_arr_time  \\\n",
       "0        16:17:00       43.0      28.0  ...     16:48:00        17:47:00   \n",
       "1        10:35:00       55.0      56.0  ...     11:14:00        12:36:00   \n",
       "2        19:54:00       69.0      14.0  ...     21:58:00        23:12:00   \n",
       "3        15:30:00      114.0      30.0  ...     15:13:00        16:58:00   \n",
       "4        14:25:00       45.0      18.0  ...     14:38:00        15:20:00   \n",
       "\n",
       "   arr_delay cancelled cancellation_desc  diverted crs_elapsed_time  \\\n",
       "0       59.0     False               NaN     False              134   \n",
       "1       82.0     False               NaN     False               94   \n",
       "2       74.0     False               NaN     False              133   \n",
       "3      105.0     False               NaN     False               97   \n",
       "4       42.0     False               NaN     False               58   \n",
       "\n",
       "  actual_elapsed_time  air_time  distance  carrier_delay  weather_delay  \\\n",
       "0                90.0      74.0       596            0.0            0.0   \n",
       "1               121.0      94.0       301            0.0           55.0   \n",
       "2               198.0     193.0       812            0.0            0.0   \n",
       "3                88.0      97.0       301           35.0            0.0   \n",
       "4                55.0      58.0       152           42.0            0.0   \n",
       "\n",
       "   nas_delay  security_delay  late_aircraft_delay  \n",
       "0       59.0             0.0                  0.0  \n",
       "1       27.0             0.0                  0.0  \n",
       "2        6.0             0.0                 68.0  \n",
       "3        0.0             0.0                 70.0  \n",
       "4        0.0             0.0                  0.0  \n",
       "\n",
       "[5 rows x 33 columns]"
      ]
     },
     "execution_count": 84,
     "metadata": {},
     "output_type": "execute_result"
    }
   ],
   "source": [
    "df_flights.head()"
   ]
  },
  {
   "cell_type": "code",
   "execution_count": 85,
   "metadata": {
    "scrolled": false
   },
   "outputs": [
    {
     "name": "stdout",
     "output_type": "stream",
     "text": [
      "(5268948, 33)\n",
      "<class 'pandas.core.frame.DataFrame'>\n",
      "RangeIndex: 5268948 entries, 0 to 5268947\n",
      "Data columns (total 33 columns):\n",
      " #   Column               Non-Null Count    Dtype   \n",
      "---  ------               --------------    -----   \n",
      " 0   fl_date              5268948 non-null  object  \n",
      " 1   year                 5268948 non-null  int64   \n",
      " 2   month                5268948 non-null  object  \n",
      " 3   weekday              5268948 non-null  object  \n",
      " 4   origin_airport       5268948 non-null  object  \n",
      " 5   origin_city          5268948 non-null  object  \n",
      " 6   origin_state         5268948 non-null  object  \n",
      " 7   dest_airport         5268948 non-null  object  \n",
      " 8   dest_city            5268948 non-null  object  \n",
      " 9   dest_state           5268948 non-null  object  \n",
      " 10  crs_dep_time         5268948 non-null  object  \n",
      " 11  crs_dep_hour         5268948 non-null  object  \n",
      " 12  actual_dep_time      5017439 non-null  object  \n",
      " 13  dep_delay            5017439 non-null  float64 \n",
      " 14  taxi_out             5017439 non-null  float64 \n",
      " 15  wheels_off           5017439 non-null  object  \n",
      " 16  wheels_on            5017439 non-null  object  \n",
      " 17  taxi_in              5017439 non-null  float64 \n",
      " 18  crs_arr_time         5268948 non-null  object  \n",
      " 19  actual_arr_time      5017439 non-null  object  \n",
      " 20  arr_delay            5017439 non-null  float64 \n",
      " 21  cancelled            5268948 non-null  object  \n",
      " 22  cancellation_desc    251509 non-null   category\n",
      " 23  diverted             5268948 non-null  bool    \n",
      " 24  crs_elapsed_time     5268948 non-null  int64   \n",
      " 25  actual_elapsed_time  5017439 non-null  float64 \n",
      " 26  air_time             5017439 non-null  float64 \n",
      " 27  distance             5268948 non-null  int64   \n",
      " 28  carrier_delay        2741963 non-null  float64 \n",
      " 29  weather_delay        2741963 non-null  float64 \n",
      " 30  nas_delay            2741963 non-null  float64 \n",
      " 31  security_delay       2741963 non-null  float64 \n",
      " 32  late_aircraft_delay  2741963 non-null  float64 \n",
      "dtypes: bool(1), category(1), float64(11), int64(3), object(17)\n",
      "memory usage: 1.2+ GB\n",
      "None\n"
     ]
    }
   ],
   "source": [
    "# High-level overview of data shape and composition\n",
    "pd.set_option('display.max_columns', 30)\n",
    "print(df_flights.shape)\n",
    "print(df_flights.info(null_counts=True))"
   ]
  },
  {
   "cell_type": "markdown",
   "metadata": {},
   "source": [
    "### What is the structure of your dataset?\n",
    "\n",
    "This dataset contains 5,268,948 flights which were cancelled or delayed. It is comprised of 28 features:\n",
    "\n",
    "- fl_date: flight date (YYYY-MM-DD)\n",
    "- origin_airport: departure airport\n",
    "- origin_city: departure city\n",
    "- origin_state: departure state\n",
    "- dest_airport: airport of arrival\n",
    "- dest_city: arrival city\n",
    "- dest_state: arrival state\n",
    "- crs_dep_time: scheduled departure time registered in CRS (Computer/Central Reservation System) (HH:MM:SS)\n",
    "- actual_dep_time: actual departure time (HH:MM:SS)\n",
    "- dep_delay: difference in minutes between scheduled and actual departure time. \n",
    "- taxi_out: time taken to taki aircraft before departure, in minutes\n",
    "- wheels_off: time wheels leave the ground (HH:MM:SS)\n",
    "- wheels_on: time wheels touch the ground (HH:MM:SS)\n",
    "- taxi_in: time taken to taki aircraft upon arrival, in minutes\n",
    "- crs_arr_time: scheduled arrival time registered in CRS (HH:MM:SS)\n",
    "- actual_arr_time: actual arrival time (HH:MM:SS)\n",
    "- arr_delay: difference in minutes between scheduled and actual arrival time. \n",
    "- cancelled: flag if flight was cancelled (1) or finalized (0)\n",
    "- cancellation_desc: reason for cancellation (Weather, Carrier, NAS or Security).\n",
    "- diverted: if flight was rerouted (1) or not (0)\n",
    "- crs_elapsed_time: CRS elapsed time of flight, in minutes\n",
    "- actual_elapsed_time: elapsed time of flight, in minutes\n",
    "- air_time: flight time, in minutes\n",
    "- distance: distance between airports, in miles\n",
    "- carrier_delay: delay cause, in minutes\n",
    "- weather_delay: delay cause, in minutes\n",
    "- nas_delay: delay cause, in minutes\n",
    "- security_delay: delay cause, in minutes\n",
    "- late_aircraft_delay: delay cause, in minutes\n",
    "\n",
    "Most variables are either numeric or object types. The variable **cancellation_desc** is categorical and has the following classification:\n",
    "\n",
    "- **Carrier:** The cause of the cancellation or delay was due to circumstances within the airline's control (e.g. maintenance or crew problems, aircraft cleaning, baggage loading, fueling, etc.).\n",
    "- **Late Aircraft:** A previous flight with same aircraft arrived late, causing the present flight to depart late.\n",
    "- **NAS:** Stands for National Aviation System. Delays and cancellations attributable to the national aviation system that refer to a broad set of conditions, such as non-extreme weather conditions, airport operations, heavy traffic volume, and air traffic control.\n",
    "- **Security:** Delays or cancellations caused by evacuation of a terminal or concourse, re-boarding of aircraft because of security breach, inoperative screening equipment and/or long lines in excess of 29 minutes at screening areas.\n",
    "- **Weather:** Significant meteorological conditions (actual or forecasted) that, in the judgment of the carrier, delays or prevents the operation of a flight such as tornado, blizzard or hurricane.\n",
    "\n",
    "### What is/are the main feature(s) of interest in your dataset?\n",
    "\n",
    "I'm most interested in figuring out what factors have the most influence in flight cancellation and severe delays.\n",
    "\n",
    "### What features in the dataset do you think will help support your investigation into your feature(s) of interest?\n",
    "\n",
    "Although delay cause will give us a good indication of the reason a flight is delayed, I am also expecting that features such as flight date, origin state, CRS departure time and arrival delay will have effects on flight's cancellation and delay duration. I also think that other features will have effects on the cancellation and delay's duration, though to a much smaller degree."
   ]
  },
  {
   "cell_type": "markdown",
   "metadata": {},
   "source": [
    "## Univariate Exploration\n",
    "\n",
    "> In this section, investigate distributions of individual variables. If\n",
    "you see unusual points or outliers, take a deeper look to clean things up\n",
    "and prepare yourself to look at relationships between variables."
   ]
  },
  {
   "cell_type": "code",
   "execution_count": 86,
   "metadata": {},
   "outputs": [],
   "source": [
    "def chart_props(df, col_name):\n",
    "    # add annotations\n",
    "    n_points = df.shape[0]\n",
    "    cat_counts = df[col_name].value_counts()\n",
    "    locs, labels = plt.xticks() # get the current tick locations and labels\n",
    "    \n",
    "    # loop through each pair of locations and labels\n",
    "    for loc, label in zip(locs, labels):\n",
    "        \n",
    "        # get the text property for the label to get the correct count\n",
    "        count = cat_counts[label.get_text()]\n",
    "        pct_string = '{:0.1f}%'.format(100*count/n_points)\n",
    "        \n",
    "        # print the annotation just below the top of the bar\n",
    "        plt.text(loc, count, pct_string, ha = 'center', verticalalignment='bottom', color = 'black')\n",
    "        \n",
    "# create the plot\n",
    "sb.set_style('darkgrid')\n",
    "base_color = sb.color_palette()[0]"
   ]
  },
  {
   "cell_type": "code",
   "execution_count": 87,
   "metadata": {},
   "outputs": [
    {
     "data": {
      "image/png": "[encoded data removed]",
      "text/plain": [
       "<Figure size 360x360 with 1 Axes>"
      ]
     },
     "metadata": {},
     "output_type": "display_data"
    }
   ],
   "source": [
    "plt.figure(figsize=[5, 5])\n",
    "col_order = df_flights.cancelled.value_counts().index\n",
    "\n",
    "sb.countplot(data=df_flights, x='cancelled', color=base_color, order=col_order)\n",
    "chart_props(df_flights, 'cancelled')"
   ]
  },
  {
   "cell_type": "markdown",
   "metadata": {},
   "source": [
    "Flights with cancelled status accounts for approximately 5% of the dataset. Note that we have only flights that are either cancelled or delayed.\n",
    "\n",
    "I'll start by looking into the cancelled flights first."
   ]
  },
  {
   "cell_type": "code",
   "execution_count": 88,
   "metadata": {},
   "outputs": [
    {
     "data": {
      "text/html": [
       "<div>\n",
       "<style scoped>\n",
       "    .dataframe tbody tr th:only-of-type {\n",
       "        vertical-align: middle;\n",
       "    }\n",
       "\n",
       "    .dataframe tbody tr th {\n",
       "        vertical-align: top;\n",
       "    }\n",
       "\n",
       "    .dataframe thead th {\n",
       "        text-align: right;\n",
       "    }\n",
       "</style>\n",
       "<table border=\"1\" class=\"dataframe\">\n",
       "  <thead>\n",
       "    <tr style=\"text-align: right;\">\n",
       "      <th></th>\n",
       "      <th>fl_date</th>\n",
       "      <th>year</th>\n",
       "      <th>month</th>\n",
       "      <th>weekday</th>\n",
       "      <th>origin_airport</th>\n",
       "      <th>origin_city</th>\n",
       "      <th>origin_state</th>\n",
       "      <th>dest_airport</th>\n",
       "      <th>dest_city</th>\n",
       "      <th>dest_state</th>\n",
       "      <th>crs_dep_time</th>\n",
       "      <th>crs_dep_hour</th>\n",
       "      <th>actual_dep_time</th>\n",
       "      <th>dep_delay</th>\n",
       "      <th>taxi_out</th>\n",
       "      <th>...</th>\n",
       "      <th>crs_arr_time</th>\n",
       "      <th>actual_arr_time</th>\n",
       "      <th>arr_delay</th>\n",
       "      <th>cancelled</th>\n",
       "      <th>cancellation_desc</th>\n",
       "      <th>diverted</th>\n",
       "      <th>crs_elapsed_time</th>\n",
       "      <th>actual_elapsed_time</th>\n",
       "      <th>air_time</th>\n",
       "      <th>distance</th>\n",
       "      <th>carrier_delay</th>\n",
       "      <th>weather_delay</th>\n",
       "      <th>nas_delay</th>\n",
       "      <th>security_delay</th>\n",
       "      <th>late_aircraft_delay</th>\n",
       "    </tr>\n",
       "  </thead>\n",
       "  <tbody>\n",
       "    <tr>\n",
       "      <th>0</th>\n",
       "      <td>2019-03-01</td>\n",
       "      <td>2019</td>\n",
       "      <td>Mar</td>\n",
       "      <td>Friday</td>\n",
       "      <td>ORF</td>\n",
       "      <td>Norfolk</td>\n",
       "      <td>VA</td>\n",
       "      <td>LGA</td>\n",
       "      <td>New York</td>\n",
       "      <td>VA</td>\n",
       "      <td>18:55:00</td>\n",
       "      <td>18</td>\n",
       "      <td>NaN</td>\n",
       "      <td>NaN</td>\n",
       "      <td>NaN</td>\n",
       "      <td>...</td>\n",
       "      <td>20:42:00</td>\n",
       "      <td>NaN</td>\n",
       "      <td>NaN</td>\n",
       "      <td>True</td>\n",
       "      <td>Weather</td>\n",
       "      <td>False</td>\n",
       "      <td>107</td>\n",
       "      <td>NaN</td>\n",
       "      <td>NaN</td>\n",
       "      <td>296</td>\n",
       "      <td>NaN</td>\n",
       "      <td>NaN</td>\n",
       "      <td>NaN</td>\n",
       "      <td>NaN</td>\n",
       "      <td>NaN</td>\n",
       "    </tr>\n",
       "    <tr>\n",
       "      <th>1</th>\n",
       "      <td>2019-03-01</td>\n",
       "      <td>2019</td>\n",
       "      <td>Mar</td>\n",
       "      <td>Friday</td>\n",
       "      <td>CHO</td>\n",
       "      <td>Charlottesville</td>\n",
       "      <td>VA</td>\n",
       "      <td>CLT</td>\n",
       "      <td>Charlotte</td>\n",
       "      <td>VA</td>\n",
       "      <td>19:40:00</td>\n",
       "      <td>19</td>\n",
       "      <td>NaN</td>\n",
       "      <td>NaN</td>\n",
       "      <td>NaN</td>\n",
       "      <td>...</td>\n",
       "      <td>21:05:00</td>\n",
       "      <td>NaN</td>\n",
       "      <td>NaN</td>\n",
       "      <td>True</td>\n",
       "      <td>Weather</td>\n",
       "      <td>False</td>\n",
       "      <td>85</td>\n",
       "      <td>NaN</td>\n",
       "      <td>NaN</td>\n",
       "      <td>245</td>\n",
       "      <td>NaN</td>\n",
       "      <td>NaN</td>\n",
       "      <td>NaN</td>\n",
       "      <td>NaN</td>\n",
       "      <td>NaN</td>\n",
       "    </tr>\n",
       "    <tr>\n",
       "      <th>2</th>\n",
       "      <td>2019-03-01</td>\n",
       "      <td>2019</td>\n",
       "      <td>Mar</td>\n",
       "      <td>Friday</td>\n",
       "      <td>CLT</td>\n",
       "      <td>Charlotte</td>\n",
       "      <td>NC</td>\n",
       "      <td>CHO</td>\n",
       "      <td>Charlottesville</td>\n",
       "      <td>NC</td>\n",
       "      <td>17:55:00</td>\n",
       "      <td>17</td>\n",
       "      <td>NaN</td>\n",
       "      <td>NaN</td>\n",
       "      <td>NaN</td>\n",
       "      <td>...</td>\n",
       "      <td>19:10:00</td>\n",
       "      <td>NaN</td>\n",
       "      <td>NaN</td>\n",
       "      <td>True</td>\n",
       "      <td>Weather</td>\n",
       "      <td>False</td>\n",
       "      <td>75</td>\n",
       "      <td>NaN</td>\n",
       "      <td>NaN</td>\n",
       "      <td>245</td>\n",
       "      <td>NaN</td>\n",
       "      <td>NaN</td>\n",
       "      <td>NaN</td>\n",
       "      <td>NaN</td>\n",
       "      <td>NaN</td>\n",
       "    </tr>\n",
       "    <tr>\n",
       "      <th>3</th>\n",
       "      <td>2019-03-01</td>\n",
       "      <td>2019</td>\n",
       "      <td>Mar</td>\n",
       "      <td>Friday</td>\n",
       "      <td>GSP</td>\n",
       "      <td>Greer</td>\n",
       "      <td>SC</td>\n",
       "      <td>ORD</td>\n",
       "      <td>Chicago</td>\n",
       "      <td>SC</td>\n",
       "      <td>10:11:00</td>\n",
       "      <td>10</td>\n",
       "      <td>NaN</td>\n",
       "      <td>NaN</td>\n",
       "      <td>NaN</td>\n",
       "      <td>...</td>\n",
       "      <td>11:15:00</td>\n",
       "      <td>NaN</td>\n",
       "      <td>NaN</td>\n",
       "      <td>True</td>\n",
       "      <td>Weather</td>\n",
       "      <td>False</td>\n",
       "      <td>64</td>\n",
       "      <td>NaN</td>\n",
       "      <td>NaN</td>\n",
       "      <td>577</td>\n",
       "      <td>NaN</td>\n",
       "      <td>NaN</td>\n",
       "      <td>NaN</td>\n",
       "      <td>NaN</td>\n",
       "      <td>NaN</td>\n",
       "    </tr>\n",
       "    <tr>\n",
       "      <th>4</th>\n",
       "      <td>2019-03-01</td>\n",
       "      <td>2019</td>\n",
       "      <td>Mar</td>\n",
       "      <td>Friday</td>\n",
       "      <td>DFW</td>\n",
       "      <td>Dallas/Fort Worth</td>\n",
       "      <td>TX</td>\n",
       "      <td>CRP</td>\n",
       "      <td>Corpus Christi</td>\n",
       "      <td>TX</td>\n",
       "      <td>20:43:00</td>\n",
       "      <td>20</td>\n",
       "      <td>NaN</td>\n",
       "      <td>NaN</td>\n",
       "      <td>NaN</td>\n",
       "      <td>...</td>\n",
       "      <td>22:07:00</td>\n",
       "      <td>NaN</td>\n",
       "      <td>NaN</td>\n",
       "      <td>True</td>\n",
       "      <td>Weather</td>\n",
       "      <td>False</td>\n",
       "      <td>84</td>\n",
       "      <td>NaN</td>\n",
       "      <td>NaN</td>\n",
       "      <td>354</td>\n",
       "      <td>NaN</td>\n",
       "      <td>NaN</td>\n",
       "      <td>NaN</td>\n",
       "      <td>NaN</td>\n",
       "      <td>NaN</td>\n",
       "    </tr>\n",
       "  </tbody>\n",
       "</table>\n",
       "<p>5 rows × 33 columns</p>\n",
       "</div>"
      ],
      "text/plain": [
       "      fl_date  year month weekday origin_airport        origin_city  \\\n",
       "0  2019-03-01  2019   Mar  Friday            ORF            Norfolk   \n",
       "1  2019-03-01  2019   Mar  Friday            CHO    Charlottesville   \n",
       "2  2019-03-01  2019   Mar  Friday            CLT          Charlotte   \n",
       "3  2019-03-01  2019   Mar  Friday            GSP              Greer   \n",
       "4  2019-03-01  2019   Mar  Friday            DFW  Dallas/Fort Worth   \n",
       "\n",
       "  origin_state dest_airport        dest_city dest_state crs_dep_time  \\\n",
       "0           VA          LGA         New York         VA     18:55:00   \n",
       "1           VA          CLT        Charlotte         VA     19:40:00   \n",
       "2           NC          CHO  Charlottesville         NC     17:55:00   \n",
       "3           SC          ORD          Chicago         SC     10:11:00   \n",
       "4           TX          CRP   Corpus Christi         TX     20:43:00   \n",
       "\n",
       "  crs_dep_hour actual_dep_time  dep_delay  taxi_out  ... crs_arr_time  \\\n",
       "0           18             NaN        NaN       NaN  ...     20:42:00   \n",
       "1           19             NaN        NaN       NaN  ...     21:05:00   \n",
       "2           17             NaN        NaN       NaN  ...     19:10:00   \n",
       "3           10             NaN        NaN       NaN  ...     11:15:00   \n",
       "4           20             NaN        NaN       NaN  ...     22:07:00   \n",
       "\n",
       "  actual_arr_time  arr_delay cancelled cancellation_desc  diverted  \\\n",
       "0             NaN        NaN      True           Weather     False   \n",
       "1             NaN        NaN      True           Weather     False   \n",
       "2             NaN        NaN      True           Weather     False   \n",
       "3             NaN        NaN      True           Weather     False   \n",
       "4             NaN        NaN      True           Weather     False   \n",
       "\n",
       "  crs_elapsed_time actual_elapsed_time  air_time  distance  carrier_delay  \\\n",
       "0              107                 NaN       NaN       296            NaN   \n",
       "1               85                 NaN       NaN       245            NaN   \n",
       "2               75                 NaN       NaN       245            NaN   \n",
       "3               64                 NaN       NaN       577            NaN   \n",
       "4               84                 NaN       NaN       354            NaN   \n",
       "\n",
       "   weather_delay  nas_delay  security_delay  late_aircraft_delay  \n",
       "0            NaN        NaN             NaN                  NaN  \n",
       "1            NaN        NaN             NaN                  NaN  \n",
       "2            NaN        NaN             NaN                  NaN  \n",
       "3            NaN        NaN             NaN                  NaN  \n",
       "4            NaN        NaN             NaN                  NaN  \n",
       "\n",
       "[5 rows x 33 columns]"
      ]
     },
     "execution_count": 88,
     "metadata": {},
     "output_type": "execute_result"
    }
   ],
   "source": [
    "df_cancelled = df_flights.query('cancelled == \"True\"').reset_index(drop=True)\n",
    "\n",
    "df_cancelled.head()"
   ]
  },
  {
   "cell_type": "code",
   "execution_count": 89,
   "metadata": {
    "scrolled": true
   },
   "outputs": [
    {
     "data": {
      "image/png": "[encoded data removed]",
      "text/plain": [
       "<Figure size 576x360 with 1 Axes>"
      ]
     },
     "metadata": {},
     "output_type": "display_data"
    }
   ],
   "source": [
    "plt.figure(figsize=[8, 5])\n",
    "col_order = df_cancelled.cancellation_desc.value_counts().index\n",
    "sb.countplot(data=df_cancelled, x='cancellation_desc', color=base_color, order=col_order)\n",
    "chart_props(df_cancelled, 'cancellation_desc')"
   ]
  },
  {
   "cell_type": "code",
   "execution_count": 118,
   "metadata": {},
   "outputs": [
    {
     "name": "stdout",
     "output_type": "stream",
     "text": [
      "Security reasons: 0.025%\n"
     ]
    }
   ],
   "source": [
    "nb_security = df_cancelled.query('cancellation_desc == \"Security\"').cancelled.count()\n",
    "nb_cancelled = df_cancelled.shape[0]\n",
    "perc_cancel = round((nb_security/nb_cancelled)*100, 3)\n",
    "\n",
    "print('Security reasons: {}%'.format(perc_cancel))"
   ]
  },
  {
   "cell_type": "markdown",
   "metadata": {},
   "source": [
    "More than half of cancelled flights have severe weather condition as cause for cancellation. Carrier and National Air System holds 27% and 20% of cancellations respectively. \n",
    "\n",
    "There was virtually no cancellation due to security reasons registered in both years. \n",
    "\n",
    "Next up: Top origin and destination state by number of cancelled flights."
   ]
  },
  {
   "cell_type": "code",
   "execution_count": 91,
   "metadata": {},
   "outputs": [
    {
     "data": {
      "image/png": "[encoded data removed]",
      "text/plain": [
       "<Figure size 576x720 with 2 Axes>"
      ]
     },
     "metadata": {},
     "output_type": "display_data"
    }
   ],
   "source": [
    "plt.figure(figsize = [8, 10]) # larger figure size for subplots\n",
    "\n",
    "origin_order = df_cancelled.origin_state.value_counts().index[:6]\n",
    "dest_order = df_cancelled.dest_state.value_counts().index[:6] \n",
    "\n",
    "plt.subplot(2, 1, 1) # 2 rows, 1 col, subplot 1\n",
    "sb.countplot(data = df_cancelled, x = 'origin_state', color=base_color, order=origin_order)\n",
    "chart_props(df_cancelled, 'origin_state')\n",
    "\n",
    "plt.subplot(2, 1, 2) # 2 rows, 1 col, subplot 2\n",
    "sb.countplot(data = df_cancelled, x = 'dest_state', color=base_color, order=dest_order)\n",
    "chart_props(df_cancelled, 'dest_state')\n"
   ]
  },
  {
   "cell_type": "markdown",
   "metadata": {},
   "source": [
    "Approximately 50% of flight cancellations occur in 6 states: Texas, Illinois, California, New York, North Carolina and Florida.\n",
    "\n",
    "Interestingly, the ranking of flights cancelled per origin matches the destination raking. This may be due to severe weather conditions during winter period.\n",
    "\n",
    "Looking into which month most cancellations occured may support this claim."
   ]
  },
  {
   "cell_type": "code",
   "execution_count": 113,
   "metadata": {},
   "outputs": [
    {
     "data": {
      "image/png": "[encoded data removed]",
      "text/plain": [
       "<Figure size 1152x360 with 2 Axes>"
      ]
     },
     "metadata": {},
     "output_type": "display_data"
    }
   ],
   "source": [
    "plt.figure(figsize=[16, 5])\n",
    "\n",
    "\n",
    "order_month = ['Jan', 'Feb', 'Mar', 'Apr', 'May', 'Jun', \n",
    "               'Jul', 'Aug', 'Sep', 'Oct', 'Nov', 'Dec']\n",
    "\n",
    "plt.subplot(1, 2, 1)\n",
    "sb.countplot(data=df_cancelled, x='month', color=base_color, order=order_month)\n",
    "chart_props(df_cancelled, 'month')\n",
    "\n",
    "\n",
    "order_week = ['Monday', 'Tuesday', 'Wednesday', 'Thursday', 'Friday', 'Saturday', 'Sunday']\n",
    "\n",
    "plt.subplot(1, 2, 2)\n",
    "sb.countplot(data=df_cancelled, x='weekday', color=base_color, order=order_week)\n",
    "chart_props(df_cancelled, 'weekday')\n",
    "plt.xticks(rotation=45);"
   ]
  },
  {
   "cell_type": "markdown",
   "metadata": {},
   "source": [
    "It looks like flights tend to be cancelled more in the first quarter of the year. Flight cancellation progressively decreases, registering lower cancellation rate in the last quarter."
   ]
  },
  {
   "cell_type": "markdown",
   "metadata": {},
   "source": [
    "Saturday is the day of the week which registers the least number of cancellations: less than 10%."
   ]
  },
  {
   "cell_type": "code",
   "execution_count": 101,
   "metadata": {},
   "outputs": [
    {
     "data": {
      "image/png": "[encoded data removed]",
      "text/plain": [
       "<Figure size 864x360 with 1 Axes>"
      ]
     },
     "metadata": {},
     "output_type": "display_data"
    }
   ],
   "source": [
    "plt.figure(figsize=[12, 5])\n",
    "sb.countplot(data=df_cancelled, x='crs_dep_hour', color=base_color)\n",
    "chart_props(df_cancelled, 'crs_dep_hour')"
   ]
  },
  {
   "cell_type": "markdown",
   "metadata": {},
   "source": [
    "Is the trend similar in both years? What is the major cause for cancellation at 6h, 17h and 18h? Why there is almost no cancellation between 0h and 4h? "
   ]
  },
  {
   "cell_type": "code",
   "execution_count": 117,
   "metadata": {},
   "outputs": [
    {
     "data": {
      "image/png": "[encoded data removed]",
      "text/plain": [
       "<Figure size 720x360 with 1 Axes>"
      ]
     },
     "metadata": {},
     "output_type": "display_data"
    }
   ],
   "source": [
    "plt.figure(figsize=[10, 5])\n",
    "bin_edges = np.arange(df_cancelled['distance'].min(), df_cancelled['distance'].max()+200, 200)\n",
    "plt.hist(data=df_cancelled, x='distance', bins=bin_edges);"
   ]
  },
  {
   "cell_type": "code",
   "execution_count": null,
   "metadata": {},
   "outputs": [],
   "source": []
  },
  {
   "cell_type": "code",
   "execution_count": null,
   "metadata": {},
   "outputs": [],
   "source": []
  },
  {
   "cell_type": "code",
   "execution_count": null,
   "metadata": {
    "scrolled": true
   },
   "outputs": [],
   "source": [
    "# This chart shows outliers, next chart will focus on delays\n",
    "bin_edges = np.arange(flights.arr_delay.min(), flights.arr_delay.max()+30, 30)\n",
    "plt.figure(figsize=[8, 5])\n",
    "plt.hist(data=flights, x='arr_delay', bins=bin_edges);"
   ]
  },
  {
   "cell_type": "code",
   "execution_count": null,
   "metadata": {},
   "outputs": [],
   "source": [
    "# there's a long tail in the distribution, so let's put it on a log scale instead\n",
    "log_binsize = 0.1\n",
    "range_min = np.log10(flights.arr_delay.min())\n",
    "range_max = np.log10(flights.arr_delay.max())\n",
    "bins = 10 ** np.arange(range_min, range_max+log_binsize, log_binsize)\n",
    "\n",
    "plt.figure(figsize=[8, 5])\n",
    "plt.hist(data=flights, x='arr_delay', bins = bins)\n",
    "plt.xscale('log')\n",
    "plt.xticks([120, 1e3, 2e3, 5e3, 1e4, 2e4], [120, '240', '480', '960', '1920', '3840'])\n",
    "plt.xlabel('Delay (min)')\n",
    "plt.show()"
   ]
  },
  {
   "cell_type": "markdown",
   "metadata": {},
   "source": [
    "Most flight delays are in the range of 2 to 8 hours."
   ]
  },
  {
   "cell_type": "code",
   "execution_count": null,
   "metadata": {},
   "outputs": [],
   "source": [
    "# During which times occur the most delays?\n",
    "flights['crs_hour'] = flights['crs_dep_time'].astype(str).str[0:2]"
   ]
  },
  {
   "cell_type": "code",
   "execution_count": null,
   "metadata": {},
   "outputs": [],
   "source": [
    "chart_props('crs_hour', order_cat=False)"
   ]
  },
  {
   "cell_type": "markdown",
   "metadata": {},
   "source": [
    "Delays start to build up as the hours passes by, reaching a peak at 5PM, and decreases hour by hour. Aircraft delay being the main cause, the decrease may be due to end of aircraft operation for that day."
   ]
  },
  {
   "cell_type": "markdown",
   "metadata": {},
   "source": [
    "> Make sure that, after every plot or related series of plots, that you\n",
    "include a Markdown cell with comments about what you observed, and what\n",
    "you plan on investigating next."
   ]
  },
  {
   "cell_type": "markdown",
   "metadata": {},
   "source": [
    "### Discuss the distribution(s) of your variable(s) of interest. Were there any unusual points? Did you need to perform any transformations?\n",
    "\n",
    "> Your answer here!\n",
    "\n",
    "### Of the features you investigated, were there any unusual distributions? Did you perform any operations on the data to tidy, adjust, or change the form of the data? If so, why did you do this?\n",
    "\n",
    "> Your answer here!"
   ]
  },
  {
   "cell_type": "markdown",
   "metadata": {},
   "source": [
    "## Bivariate Exploration\n",
    "\n",
    "> In this section, investigate relationships between pairs of variables in your\n",
    "data. Make sure the variables that you cover here have been introduced in some\n",
    "fashion in the previous section (univariate exploration)."
   ]
  },
  {
   "cell_type": "code",
   "execution_count": null,
   "metadata": {},
   "outputs": [],
   "source": []
  },
  {
   "cell_type": "markdown",
   "metadata": {},
   "source": [
    "### Talk about some of the relationships you observed in this part of the investigation. How did the feature(s) of interest vary with other features in the dataset?\n",
    "\n",
    "> Your answer here!\n",
    "\n",
    "### Did you observe any interesting relationships between the other features (not the main feature(s) of interest)?\n",
    "\n",
    "> Your answer here!"
   ]
  },
  {
   "cell_type": "markdown",
   "metadata": {},
   "source": [
    "## Multivariate Exploration\n",
    "\n",
    "> Create plots of three or more variables to investigate your data even\n",
    "further. Make sure that your investigations are justified, and follow from\n",
    "your work in the previous sections."
   ]
  },
  {
   "cell_type": "code",
   "execution_count": null,
   "metadata": {},
   "outputs": [],
   "source": []
  },
  {
   "cell_type": "markdown",
   "metadata": {},
   "source": [
    "### Talk about some of the relationships you observed in this part of the investigation. Were there features that strengthened each other in terms of looking at your feature(s) of interest?\n",
    "\n",
    "> Your answer here!\n",
    "\n",
    "### Were there any interesting or surprising interactions between features?\n",
    "\n",
    "> Your answer here!"
   ]
  },
  {
   "cell_type": "markdown",
   "metadata": {},
   "source": [
    "> At the end of your report, make sure that you export the notebook as an\n",
    "html file from the `File > Download as... > HTML` menu. Make sure you keep\n",
    "track of where the exported file goes, so you can put it in the same folder\n",
    "as this notebook for project submission. Also, make sure you remove all of\n",
    "the quote-formatted guide notes like this one before you finish your report!"
   ]
  },
  {
   "cell_type": "code",
   "execution_count": null,
   "metadata": {},
   "outputs": [],
   "source": []
  }
 ],
 "metadata": {
  "kernelspec": {
   "display_name": "Python 3",
   "language": "python",
   "name": "python3"
  },
  "language_info": {
   "codemirror_mode": {
    "name": "ipython",
    "version": 3
   },
   "file_extension": ".py",
   "mimetype": "text/x-python",
   "name": "python",
   "nbconvert_exporter": "python",
   "pygments_lexer": "ipython3",
   "version": "3.7.6"
  }
 },
 "nbformat": 4,
 "nbformat_minor": 2
}
