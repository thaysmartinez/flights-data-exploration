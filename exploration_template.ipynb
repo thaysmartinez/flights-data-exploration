{
 "cells": [
  {
   "cell_type": "markdown",
   "metadata": {},
   "source": [
    "# Flights Data Exploration\n",
    "## by Thays Martinez\n",
    "\n",
    "## Preliminary Wrangling\n",
    "\n",
    "This document explores a dataset containing flight delays of 2+ hours registered between 1st of January 2015 until 31st of December 2019 for approximately 1.3 million flights within the United States and Canada."
   ]
  },
  {
   "cell_type": "code",
   "execution_count": 1,
   "metadata": {},
   "outputs": [],
   "source": [
    "# import all packages and set plots to be embedded inline\n",
    "import numpy as np\n",
    "import pandas as pd\n",
    "import matplotlib.pyplot as plt\n",
    "import seaborn as sb\n",
    "from datetime import datetime\n",
    "\n",
    "%matplotlib inline"
   ]
  },
  {
   "cell_type": "code",
   "execution_count": 2,
   "metadata": {},
   "outputs": [],
   "source": [
    "# Load the dataset into a pandas DataFrame\n",
    "flights = pd.read_csv('flights.csv')"
   ]
  },
  {
   "cell_type": "code",
   "execution_count": 3,
   "metadata": {},
   "outputs": [
    {
     "name": "stdout",
     "output_type": "stream",
     "text": [
      "(1272355, 23)\n",
      "fl_date                object\n",
      "origin_airport         object\n",
      "origin_city            object\n",
      "origin_state           object\n",
      "dest_airport           object\n",
      "dest_city              object\n",
      "dest_state             object\n",
      "crs_dep_time           object\n",
      "actual_dep_time        object\n",
      "dep_delay               int64\n",
      "taxi_out                int64\n",
      "wheels_off             object\n",
      "wheels_on              object\n",
      "taxi_in                 int64\n",
      "crs_arr_time           object\n",
      "actual_arr_time        object\n",
      "arr_delay               int64\n",
      "crs_elapsed_time        int64\n",
      "actual_elapsed_time     int64\n",
      "air_time                int64\n",
      "distance                int64\n",
      "delay_cause            object\n",
      "delay_duration          int64\n",
      "dtype: object\n"
     ]
    }
   ],
   "source": [
    "# High-level overview of data shape and composition\n",
    "pd.set_option('display.max_columns', 25)\n",
    "print(flights.shape)\n",
    "print(flights.dtypes)"
   ]
  },
  {
   "cell_type": "code",
   "execution_count": 4,
   "metadata": {},
   "outputs": [],
   "source": [
    "# Convert to datetime\n",
    "flights['fl_date'] = pd.to_datetime(flights['fl_date'])\n",
    "\n",
    "# Convert to category\n",
    "flights['delay_cause'] = flights['delay_cause'].astype('category')\n",
    "\n",
    "# Convert columns to time timestamp\n",
    "columns = ['crs_dep_time', 'actual_dep_time', 'wheels_off', \n",
    "           'wheels_on', 'crs_arr_time', 'actual_arr_time']\n",
    "\n",
    "for column in columns:\n",
    "    flights[column] = flights[column].apply(lambda x: datetime.strptime(x, '%H:%M:%S').time())\n",
    "    # flights[column] = pd.to_datetime(flights[column], format='%H%M').dt.time\n",
    "\n",
    "# Convert to int\n",
    "columns = ['taxi_out', 'taxi_in', 'diverted', 'dep_delay', \n",
    "           'arr_delay', 'crs_elapsed_time', 'actual_elapsed_time', \n",
    "           'air_time', 'distance', 'delay_duration']\n",
    "\n",
    "converter = lambda x: x.astype(int) if x.name in columns else x\n",
    "\n",
    "flights = flights.apply(converter)"
   ]
  },
  {
   "cell_type": "code",
   "execution_count": 5,
   "metadata": {
    "scrolled": true
   },
   "outputs": [
    {
     "data": {
      "text/html": [
       "<div>\n",
       "<style scoped>\n",
       "    .dataframe tbody tr th:only-of-type {\n",
       "        vertical-align: middle;\n",
       "    }\n",
       "\n",
       "    .dataframe tbody tr th {\n",
       "        vertical-align: top;\n",
       "    }\n",
       "\n",
       "    .dataframe thead th {\n",
       "        text-align: right;\n",
       "    }\n",
       "</style>\n",
       "<table border=\"1\" class=\"dataframe\">\n",
       "  <thead>\n",
       "    <tr style=\"text-align: right;\">\n",
       "      <th></th>\n",
       "      <th>fl_date</th>\n",
       "      <th>origin_airport</th>\n",
       "      <th>origin_city</th>\n",
       "      <th>origin_state</th>\n",
       "      <th>dest_airport</th>\n",
       "      <th>dest_city</th>\n",
       "      <th>dest_state</th>\n",
       "      <th>crs_dep_time</th>\n",
       "      <th>actual_dep_time</th>\n",
       "      <th>dep_delay</th>\n",
       "      <th>taxi_out</th>\n",
       "      <th>wheels_off</th>\n",
       "      <th>wheels_on</th>\n",
       "      <th>taxi_in</th>\n",
       "      <th>crs_arr_time</th>\n",
       "      <th>actual_arr_time</th>\n",
       "      <th>arr_delay</th>\n",
       "      <th>crs_elapsed_time</th>\n",
       "      <th>actual_elapsed_time</th>\n",
       "      <th>air_time</th>\n",
       "      <th>distance</th>\n",
       "      <th>delay_cause</th>\n",
       "      <th>delay_duration</th>\n",
       "    </tr>\n",
       "  </thead>\n",
       "  <tbody>\n",
       "    <tr>\n",
       "      <th>0</th>\n",
       "      <td>2019-03-01</td>\n",
       "      <td>ATL</td>\n",
       "      <td>Atlanta</td>\n",
       "      <td>GA</td>\n",
       "      <td>TYS</td>\n",
       "      <td>Knoxville</td>\n",
       "      <td>TN</td>\n",
       "      <td>12:19:00</td>\n",
       "      <td>15:28:00</td>\n",
       "      <td>189</td>\n",
       "      <td>16</td>\n",
       "      <td>15:44:00</td>\n",
       "      <td>16:17:00</td>\n",
       "      <td>2</td>\n",
       "      <td>13:15:00</td>\n",
       "      <td>16:19:00</td>\n",
       "      <td>184</td>\n",
       "      <td>56</td>\n",
       "      <td>51</td>\n",
       "      <td>33</td>\n",
       "      <td>152</td>\n",
       "      <td>Carrier</td>\n",
       "      <td>184</td>\n",
       "    </tr>\n",
       "    <tr>\n",
       "      <th>1</th>\n",
       "      <td>2019-03-01</td>\n",
       "      <td>LGA</td>\n",
       "      <td>New York</td>\n",
       "      <td>NY</td>\n",
       "      <td>ORF</td>\n",
       "      <td>Norfolk</td>\n",
       "      <td>VA</td>\n",
       "      <td>16:59:00</td>\n",
       "      <td>19:13:00</td>\n",
       "      <td>134</td>\n",
       "      <td>36</td>\n",
       "      <td>19:49:00</td>\n",
       "      <td>20:44:00</td>\n",
       "      <td>15</td>\n",
       "      <td>18:34:00</td>\n",
       "      <td>20:59:00</td>\n",
       "      <td>145</td>\n",
       "      <td>95</td>\n",
       "      <td>106</td>\n",
       "      <td>55</td>\n",
       "      <td>296</td>\n",
       "      <td>Carrier</td>\n",
       "      <td>22</td>\n",
       "    </tr>\n",
       "    <tr>\n",
       "      <th>2</th>\n",
       "      <td>2019-03-01</td>\n",
       "      <td>ATL</td>\n",
       "      <td>Atlanta</td>\n",
       "      <td>GA</td>\n",
       "      <td>XNA</td>\n",
       "      <td>Fayetteville</td>\n",
       "      <td>AR</td>\n",
       "      <td>13:51:00</td>\n",
       "      <td>16:02:00</td>\n",
       "      <td>131</td>\n",
       "      <td>14</td>\n",
       "      <td>16:16:00</td>\n",
       "      <td>16:51:00</td>\n",
       "      <td>4</td>\n",
       "      <td>14:50:00</td>\n",
       "      <td>16:55:00</td>\n",
       "      <td>125</td>\n",
       "      <td>119</td>\n",
       "      <td>113</td>\n",
       "      <td>95</td>\n",
       "      <td>589</td>\n",
       "      <td>Carrier</td>\n",
       "      <td>119</td>\n",
       "    </tr>\n",
       "    <tr>\n",
       "      <th>3</th>\n",
       "      <td>2019-03-01</td>\n",
       "      <td>LGA</td>\n",
       "      <td>New York</td>\n",
       "      <td>NY</td>\n",
       "      <td>PIT</td>\n",
       "      <td>Pittsburgh</td>\n",
       "      <td>PA</td>\n",
       "      <td>11:00:00</td>\n",
       "      <td>12:41:00</td>\n",
       "      <td>101</td>\n",
       "      <td>67</td>\n",
       "      <td>13:48:00</td>\n",
       "      <td>14:55:00</td>\n",
       "      <td>21</td>\n",
       "      <td>12:58:00</td>\n",
       "      <td>15:16:00</td>\n",
       "      <td>138</td>\n",
       "      <td>118</td>\n",
       "      <td>155</td>\n",
       "      <td>67</td>\n",
       "      <td>335</td>\n",
       "      <td>Carrier</td>\n",
       "      <td>1</td>\n",
       "    </tr>\n",
       "    <tr>\n",
       "      <th>4</th>\n",
       "      <td>2019-03-01</td>\n",
       "      <td>IND</td>\n",
       "      <td>Indianapolis</td>\n",
       "      <td>IN</td>\n",
       "      <td>RDU</td>\n",
       "      <td>Raleigh/Durham</td>\n",
       "      <td>NC</td>\n",
       "      <td>17:35:00</td>\n",
       "      <td>19:34:00</td>\n",
       "      <td>119</td>\n",
       "      <td>10</td>\n",
       "      <td>19:44:00</td>\n",
       "      <td>21:03:00</td>\n",
       "      <td>11</td>\n",
       "      <td>19:10:00</td>\n",
       "      <td>21:14:00</td>\n",
       "      <td>124</td>\n",
       "      <td>95</td>\n",
       "      <td>100</td>\n",
       "      <td>79</td>\n",
       "      <td>489</td>\n",
       "      <td>Carrier</td>\n",
       "      <td>21</td>\n",
       "    </tr>\n",
       "  </tbody>\n",
       "</table>\n",
       "</div>"
      ],
      "text/plain": [
       "     fl_date origin_airport   origin_city origin_state dest_airport  \\\n",
       "0 2019-03-01            ATL       Atlanta           GA          TYS   \n",
       "1 2019-03-01            LGA      New York           NY          ORF   \n",
       "2 2019-03-01            ATL       Atlanta           GA          XNA   \n",
       "3 2019-03-01            LGA      New York           NY          PIT   \n",
       "4 2019-03-01            IND  Indianapolis           IN          RDU   \n",
       "\n",
       "        dest_city dest_state crs_dep_time actual_dep_time  dep_delay  \\\n",
       "0       Knoxville         TN     12:19:00        15:28:00        189   \n",
       "1         Norfolk         VA     16:59:00        19:13:00        134   \n",
       "2    Fayetteville         AR     13:51:00        16:02:00        131   \n",
       "3      Pittsburgh         PA     11:00:00        12:41:00        101   \n",
       "4  Raleigh/Durham         NC     17:35:00        19:34:00        119   \n",
       "\n",
       "   taxi_out wheels_off wheels_on  taxi_in crs_arr_time actual_arr_time  \\\n",
       "0        16   15:44:00  16:17:00        2     13:15:00        16:19:00   \n",
       "1        36   19:49:00  20:44:00       15     18:34:00        20:59:00   \n",
       "2        14   16:16:00  16:51:00        4     14:50:00        16:55:00   \n",
       "3        67   13:48:00  14:55:00       21     12:58:00        15:16:00   \n",
       "4        10   19:44:00  21:03:00       11     19:10:00        21:14:00   \n",
       "\n",
       "   arr_delay  crs_elapsed_time  actual_elapsed_time  air_time  distance  \\\n",
       "0        184                56                   51        33       152   \n",
       "1        145                95                  106        55       296   \n",
       "2        125               119                  113        95       589   \n",
       "3        138               118                  155        67       335   \n",
       "4        124                95                  100        79       489   \n",
       "\n",
       "  delay_cause  delay_duration  \n",
       "0     Carrier             184  \n",
       "1     Carrier              22  \n",
       "2     Carrier             119  \n",
       "3     Carrier               1  \n",
       "4     Carrier              21  "
      ]
     },
     "execution_count": 5,
     "metadata": {},
     "output_type": "execute_result"
    }
   ],
   "source": [
    "# Display first 5 rows\n",
    "flights.head()"
   ]
  },
  {
   "cell_type": "code",
   "execution_count": 6,
   "metadata": {},
   "outputs": [
    {
     "name": "stdout",
     "output_type": "stream",
     "text": [
      "<class 'pandas.core.frame.DataFrame'>\n",
      "RangeIndex: 1272355 entries, 0 to 1272354\n",
      "Data columns (total 23 columns):\n",
      " #   Column               Non-Null Count    Dtype         \n",
      "---  ------               --------------    -----         \n",
      " 0   fl_date              1272355 non-null  datetime64[ns]\n",
      " 1   origin_airport       1272355 non-null  object        \n",
      " 2   origin_city          1272355 non-null  object        \n",
      " 3   origin_state         1272355 non-null  object        \n",
      " 4   dest_airport         1272355 non-null  object        \n",
      " 5   dest_city            1272355 non-null  object        \n",
      " 6   dest_state           1272355 non-null  object        \n",
      " 7   crs_dep_time         1272355 non-null  object        \n",
      " 8   actual_dep_time      1272355 non-null  object        \n",
      " 9   dep_delay            1272355 non-null  int64         \n",
      " 10  taxi_out             1272355 non-null  int64         \n",
      " 11  wheels_off           1272355 non-null  object        \n",
      " 12  wheels_on            1272355 non-null  object        \n",
      " 13  taxi_in              1272355 non-null  int64         \n",
      " 14  crs_arr_time         1272355 non-null  object        \n",
      " 15  actual_arr_time      1272355 non-null  object        \n",
      " 16  arr_delay            1272355 non-null  int64         \n",
      " 17  crs_elapsed_time     1272355 non-null  int64         \n",
      " 18  actual_elapsed_time  1272355 non-null  int64         \n",
      " 19  air_time             1272355 non-null  int64         \n",
      " 20  distance             1272355 non-null  int64         \n",
      " 21  delay_cause          1272355 non-null  category      \n",
      " 22  delay_duration       1272355 non-null  int64         \n",
      "dtypes: category(1), datetime64[ns](1), int64(9), object(12)\n",
      "memory usage: 214.8+ MB\n"
     ]
    }
   ],
   "source": [
    "# Overview after data transformation\n",
    "flights.info()"
   ]
  },
  {
   "cell_type": "code",
   "execution_count": 7,
   "metadata": {},
   "outputs": [
    {
     "data": {
      "text/html": [
       "<div>\n",
       "<style scoped>\n",
       "    .dataframe tbody tr th:only-of-type {\n",
       "        vertical-align: middle;\n",
       "    }\n",
       "\n",
       "    .dataframe tbody tr th {\n",
       "        vertical-align: top;\n",
       "    }\n",
       "\n",
       "    .dataframe thead th {\n",
       "        text-align: right;\n",
       "    }\n",
       "</style>\n",
       "<table border=\"1\" class=\"dataframe\">\n",
       "  <thead>\n",
       "    <tr style=\"text-align: right;\">\n",
       "      <th></th>\n",
       "      <th>dep_delay</th>\n",
       "      <th>taxi_out</th>\n",
       "      <th>taxi_in</th>\n",
       "      <th>arr_delay</th>\n",
       "      <th>crs_elapsed_time</th>\n",
       "      <th>actual_elapsed_time</th>\n",
       "      <th>air_time</th>\n",
       "      <th>distance</th>\n",
       "      <th>delay_duration</th>\n",
       "    </tr>\n",
       "  </thead>\n",
       "  <tbody>\n",
       "    <tr>\n",
       "      <th>count</th>\n",
       "      <td>1.272355e+06</td>\n",
       "      <td>1.272355e+06</td>\n",
       "      <td>1.272355e+06</td>\n",
       "      <td>1.272355e+06</td>\n",
       "      <td>1.272355e+06</td>\n",
       "      <td>1.272355e+06</td>\n",
       "      <td>1.272355e+06</td>\n",
       "      <td>1.272355e+06</td>\n",
       "      <td>1.272355e+06</td>\n",
       "    </tr>\n",
       "    <tr>\n",
       "      <th>mean</th>\n",
       "      <td>2.049701e+02</td>\n",
       "      <td>2.503002e+01</td>\n",
       "      <td>9.951415e+00</td>\n",
       "      <td>2.114902e+02</td>\n",
       "      <td>1.450754e+02</td>\n",
       "      <td>1.515945e+02</td>\n",
       "      <td>1.166131e+02</td>\n",
       "      <td>8.194772e+02</td>\n",
       "      <td>1.215906e+02</td>\n",
       "    </tr>\n",
       "    <tr>\n",
       "      <th>std</th>\n",
       "      <td>1.422501e+02</td>\n",
       "      <td>2.101424e+01</td>\n",
       "      <td>1.253035e+01</td>\n",
       "      <td>1.387694e+02</td>\n",
       "      <td>7.338261e+01</td>\n",
       "      <td>7.701455e+01</td>\n",
       "      <td>7.214453e+01</td>\n",
       "      <td>5.961651e+02</td>\n",
       "      <td>1.357414e+02</td>\n",
       "    </tr>\n",
       "    <tr>\n",
       "      <th>min</th>\n",
       "      <td>-2.000000e+01</td>\n",
       "      <td>1.000000e+00</td>\n",
       "      <td>1.000000e+00</td>\n",
       "      <td>1.200000e+02</td>\n",
       "      <td>-9.900000e+01</td>\n",
       "      <td>1.600000e+01</td>\n",
       "      <td>8.000000e+00</td>\n",
       "      <td>3.100000e+01</td>\n",
       "      <td>1.000000e+00</td>\n",
       "    </tr>\n",
       "    <tr>\n",
       "      <th>25%</th>\n",
       "      <td>1.360000e+02</td>\n",
       "      <td>1.300000e+01</td>\n",
       "      <td>5.000000e+00</td>\n",
       "      <td>1.400000e+02</td>\n",
       "      <td>9.100000e+01</td>\n",
       "      <td>9.500000e+01</td>\n",
       "      <td>6.400000e+01</td>\n",
       "      <td>3.780000e+02</td>\n",
       "      <td>2.100000e+01</td>\n",
       "    </tr>\n",
       "    <tr>\n",
       "      <th>50%</th>\n",
       "      <td>1.670000e+02</td>\n",
       "      <td>1.800000e+01</td>\n",
       "      <td>7.000000e+00</td>\n",
       "      <td>1.700000e+02</td>\n",
       "      <td>1.280000e+02</td>\n",
       "      <td>1.350000e+02</td>\n",
       "      <td>1.000000e+02</td>\n",
       "      <td>6.740000e+02</td>\n",
       "      <td>1.120000e+02</td>\n",
       "    </tr>\n",
       "    <tr>\n",
       "      <th>75%</th>\n",
       "      <td>2.240000e+02</td>\n",
       "      <td>2.900000e+01</td>\n",
       "      <td>1.000000e+01</td>\n",
       "      <td>2.260000e+02</td>\n",
       "      <td>1.750000e+02</td>\n",
       "      <td>1.850000e+02</td>\n",
       "      <td>1.460000e+02</td>\n",
       "      <td>1.055000e+03</td>\n",
       "      <td>1.640000e+02</td>\n",
       "    </tr>\n",
       "    <tr>\n",
       "      <th>max</th>\n",
       "      <td>2.710000e+03</td>\n",
       "      <td>2.270000e+02</td>\n",
       "      <td>4.140000e+02</td>\n",
       "      <td>2.695000e+03</td>\n",
       "      <td>7.180000e+02</td>\n",
       "      <td>1.604000e+03</td>\n",
       "      <td>1.557000e+03</td>\n",
       "      <td>5.095000e+03</td>\n",
       "      <td>2.695000e+03</td>\n",
       "    </tr>\n",
       "  </tbody>\n",
       "</table>\n",
       "</div>"
      ],
      "text/plain": [
       "          dep_delay      taxi_out       taxi_in     arr_delay  \\\n",
       "count  1.272355e+06  1.272355e+06  1.272355e+06  1.272355e+06   \n",
       "mean   2.049701e+02  2.503002e+01  9.951415e+00  2.114902e+02   \n",
       "std    1.422501e+02  2.101424e+01  1.253035e+01  1.387694e+02   \n",
       "min   -2.000000e+01  1.000000e+00  1.000000e+00  1.200000e+02   \n",
       "25%    1.360000e+02  1.300000e+01  5.000000e+00  1.400000e+02   \n",
       "50%    1.670000e+02  1.800000e+01  7.000000e+00  1.700000e+02   \n",
       "75%    2.240000e+02  2.900000e+01  1.000000e+01  2.260000e+02   \n",
       "max    2.710000e+03  2.270000e+02  4.140000e+02  2.695000e+03   \n",
       "\n",
       "       crs_elapsed_time  actual_elapsed_time      air_time      distance  \\\n",
       "count      1.272355e+06         1.272355e+06  1.272355e+06  1.272355e+06   \n",
       "mean       1.450754e+02         1.515945e+02  1.166131e+02  8.194772e+02   \n",
       "std        7.338261e+01         7.701455e+01  7.214453e+01  5.961651e+02   \n",
       "min       -9.900000e+01         1.600000e+01  8.000000e+00  3.100000e+01   \n",
       "25%        9.100000e+01         9.500000e+01  6.400000e+01  3.780000e+02   \n",
       "50%        1.280000e+02         1.350000e+02  1.000000e+02  6.740000e+02   \n",
       "75%        1.750000e+02         1.850000e+02  1.460000e+02  1.055000e+03   \n",
       "max        7.180000e+02         1.604000e+03  1.557000e+03  5.095000e+03   \n",
       "\n",
       "       delay_duration  \n",
       "count    1.272355e+06  \n",
       "mean     1.215906e+02  \n",
       "std      1.357414e+02  \n",
       "min      1.000000e+00  \n",
       "25%      2.100000e+01  \n",
       "50%      1.120000e+02  \n",
       "75%      1.640000e+02  \n",
       "max      2.695000e+03  "
      ]
     },
     "execution_count": 7,
     "metadata": {},
     "output_type": "execute_result"
    }
   ],
   "source": [
    "# Descriptive statistics for numeric variables\n",
    "flights.describe()"
   ]
  },
  {
   "cell_type": "markdown",
   "metadata": {},
   "source": [
    "### What is the structure of your dataset?\n",
    "\n",
    "This dataset contains 1,272,355 flight delays which delay is equal or more than 2 hours. It is comprised of 23 features:\n",
    "\n",
    "- fl_date:\n",
    "- origin_airport:\n",
    "- origin_city:\n",
    "- origin_state:\n",
    "- dest_airport:\n",
    "- dest_city:\n",
    "- dest_state:\n",
    "- crs_dep_time:\n",
    "- actual_dep_time:\n",
    "- dep_delay:\n",
    "- taxi_out:\n",
    "- wheels_off:\n",
    "- wheels_on:\n",
    "- taxi_in:\n",
    "- crs_arr_time:\n",
    "- actual_arr_time:\n",
    "- arr_delay:\n",
    "- crs_elapsed_time: CRS elapsed time of flight, in minutes\n",
    "- actual_elapsed_time: elapsed time of flight, in minutes\n",
    "- air_time: flight time, in minutes\n",
    "- distance: distance between airports (miles)\n",
    "- delay_cause: causes of delay in broad categories that were created by the Air Carrier On-Time Reporting Advisory Committee\n",
    "- delay_duration: delay in minutes\n",
    "\n",
    "Most variables are either numeric or datetime types. The variable **delay_cause** is categorical and has the following classification:\n",
    "\n",
    "- **Carrier:** The cause of the cancellation or delay was due to circumstances within the airline's control (e.g. maintenance or crew problems, aircraft cleaning, baggage loading, fueling, etc.).\n",
    "- **Late Aircraft:** A previous flight with same aircraft arrived late, causing the present flight to depart late.\n",
    "- **NAS:** Stands for National Aviation System. Delays and cancellations attributable to the national aviation system that refer to a broad set of conditions, such as non-extreme weather conditions, airport operations, heavy traffic volume, and air traffic control.\n",
    "- **Security:** Delays or cancellations caused by evacuation of a terminal or concourse, re-boarding of aircraft because of security breach, inoperative screening equipment and/or long lines in excess of 29 minutes at screening areas.\n",
    "- **Weather:** Significant meteorological conditions (actual or forecasted) that, in the judgment of the carrier, delays or prevents the operation of a flight such as tornado, blizzard or hurricane.\n",
    "\n",
    "### What is/are the main feature(s) of interest in your dataset?\n",
    "\n",
    "I'm most interested in figuring out what features are best for predicting flight delays of 2 hours or more of the flights in the dataset.\n",
    "\n",
    "### What features in the dataset do you think will help support your investigation into your feature(s) of interest?\n",
    "\n",
    "Although delay cause will give us a good indication of the reason a flight is delayed, I am also expecting that flight date, origin state, air time and distance will have effects on flight's delay duration. I also think that other features will have effects on the delay's duration, though to a much smaller degree."
   ]
  },
  {
   "cell_type": "markdown",
   "metadata": {},
   "source": [
    "## Univariate Exploration\n",
    "\n",
    "> In this section, investigate distributions of individual variables. If\n",
    "you see unusual points or outliers, take a deeper look to clean things up\n",
    "and prepare yourself to look at relationships between variables."
   ]
  },
  {
   "cell_type": "code",
   "execution_count": 79,
   "metadata": {},
   "outputs": [],
   "source": [
    "def chart_props(df, col_name):\n",
    "    # create the plot\n",
    "    base_color = sb.color_palette()[0]\n",
    "    col_order = df[col_name].value_counts().index\n",
    "    plt.figure(figsize=[8, 5])\n",
    "    sb.countplot(data=df, x=col_name, color=base_color, order=delay_order)\n",
    "    \n",
    "    # add annotations\n",
    "    n_points = df.shape[0]\n",
    "    cat_counts = df[col_name].value_counts()\n",
    "    locs, labels = plt.xticks() # get the current tick locations and labels\n",
    "    \n",
    "    # loop through each pair of locations and labels\n",
    "    for loc, label in zip(locs, labels):\n",
    "        \n",
    "        # get the text property for the label to get the correct count\n",
    "        count = cat_counts[label.get_text()]\n",
    "        pct_string = '{:0.1f}%'.format(100*count/n_points)\n",
    "        \n",
    "        # print the annotation just below the top of the bar\n",
    "        plt.text(loc, count, pct_string, ha = 'center', verticalalignment='bottom', color = 'black')"
   ]
  },
  {
   "cell_type": "code",
   "execution_count": 80,
   "metadata": {},
   "outputs": [
    {
     "data": {
      "image/png": "[encoded data removed]",
      "text/plain": [
       "<Figure size 576x360 with 1 Axes>"
      ]
     },
     "metadata": {
      "needs_background": "light"
     },
     "output_type": "display_data"
    }
   ],
   "source": [
    "# Generate chart\n",
    "chart_props(flights, 'delay_cause')"
   ]
  },
  {
   "cell_type": "code",
   "execution_count": 87,
   "metadata": {},
   "outputs": [
    {
     "data": {
      "image/png": "[encoded data removed]",
      "text/plain": [
       "<Figure size 576x360 with 1 Axes>"
      ]
     },
     "metadata": {
      "needs_background": "light"
     },
     "output_type": "display_data"
    }
   ],
   "source": [
    "bin_edges = np.arange(flights.arr_delay.min(), flights.arr_delay.max()+60, 60)\n",
    "plt.figure(figsize=[8, 5])\n",
    "plt.hist(data=flights, x='arr_delay', bins=bin_edges);"
   ]
  },
  {
   "cell_type": "code",
   "execution_count": 84,
   "metadata": {},
   "outputs": [],
   "source": [
    "# there's a long tail in the distribution, so let's put it on a log scale instead\n"
   ]
  },
  {
   "cell_type": "markdown",
   "metadata": {},
   "source": [
    "Late Aircraft accounts for 35% of delays, followed by Carrier and NAS. These 3 categories consists of more than 90% of delays of more than 2 hours. \n",
    "Next, the CRS departure time.  "
   ]
  },
  {
   "cell_type": "markdown",
   "metadata": {},
   "source": [
    "> Make sure that, after every plot or related series of plots, that you\n",
    "include a Markdown cell with comments about what you observed, and what\n",
    "you plan on investigating next."
   ]
  },
  {
   "cell_type": "code",
   "execution_count": 15,
   "metadata": {},
   "outputs": [
    {
     "data": {
      "image/png": "[encoded data removed]",
      "text/plain": [
       "<Figure size 432x288 with 1 Axes>"
      ]
     },
     "metadata": {
      "needs_background": "light"
     },
     "output_type": "display_data"
    }
   ],
   "source": [
    "state_order = flights.origin_state.value_counts().index\n",
    "sb.countplot(data=flights, x='origin_state', color=base_color, order=state_order);"
   ]
  },
  {
   "cell_type": "markdown",
   "metadata": {},
   "source": [
    "### Discuss the distribution(s) of your variable(s) of interest. Were there any unusual points? Did you need to perform any transformations?\n",
    "\n",
    "> Your answer here!\n",
    "\n",
    "### Of the features you investigated, were there any unusual distributions? Did you perform any operations on the data to tidy, adjust, or change the form of the data? If so, why did you do this?\n",
    "\n",
    "> Your answer here!"
   ]
  },
  {
   "cell_type": "markdown",
   "metadata": {},
   "source": [
    "## Bivariate Exploration\n",
    "\n",
    "> In this section, investigate relationships between pairs of variables in your\n",
    "data. Make sure the variables that you cover here have been introduced in some\n",
    "fashion in the previous section (univariate exploration)."
   ]
  },
  {
   "cell_type": "code",
   "execution_count": null,
   "metadata": {},
   "outputs": [],
   "source": []
  },
  {
   "cell_type": "markdown",
   "metadata": {},
   "source": [
    "### Talk about some of the relationships you observed in this part of the investigation. How did the feature(s) of interest vary with other features in the dataset?\n",
    "\n",
    "> Your answer here!\n",
    "\n",
    "### Did you observe any interesting relationships between the other features (not the main feature(s) of interest)?\n",
    "\n",
    "> Your answer here!"
   ]
  },
  {
   "cell_type": "markdown",
   "metadata": {},
   "source": [
    "## Multivariate Exploration\n",
    "\n",
    "> Create plots of three or more variables to investigate your data even\n",
    "further. Make sure that your investigations are justified, and follow from\n",
    "your work in the previous sections."
   ]
  },
  {
   "cell_type": "code",
   "execution_count": null,
   "metadata": {},
   "outputs": [],
   "source": []
  },
  {
   "cell_type": "markdown",
   "metadata": {},
   "source": [
    "### Talk about some of the relationships you observed in this part of the investigation. Were there features that strengthened each other in terms of looking at your feature(s) of interest?\n",
    "\n",
    "> Your answer here!\n",
    "\n",
    "### Were there any interesting or surprising interactions between features?\n",
    "\n",
    "> Your answer here!"
   ]
  },
  {
   "cell_type": "markdown",
   "metadata": {},
   "source": [
    "> At the end of your report, make sure that you export the notebook as an\n",
    "html file from the `File > Download as... > HTML` menu. Make sure you keep\n",
    "track of where the exported file goes, so you can put it in the same folder\n",
    "as this notebook for project submission. Also, make sure you remove all of\n",
    "the quote-formatted guide notes like this one before you finish your report!"
   ]
  },
  {
   "cell_type": "code",
   "execution_count": null,
   "metadata": {},
   "outputs": [],
   "source": []
  }
 ],
 "metadata": {
  "kernelspec": {
   "display_name": "Python 3",
   "language": "python",
   "name": "python3"
  },
  "language_info": {
   "codemirror_mode": {
    "name": "ipython",
    "version": 3
   },
   "file_extension": ".py",
   "mimetype": "text/x-python",
   "name": "python",
   "nbconvert_exporter": "python",
   "pygments_lexer": "ipython3",
   "version": "3.7.6"
  }
 },
 "nbformat": 4,
 "nbformat_minor": 2
}
